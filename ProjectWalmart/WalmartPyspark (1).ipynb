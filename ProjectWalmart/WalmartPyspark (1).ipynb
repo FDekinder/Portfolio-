{
  "nbformat": 4,
  "nbformat_minor": 0,
  "metadata": {
    "colab": {
      "provenance": []
    },
    "kernelspec": {
      "name": "python3",
      "display_name": "Python 3"
    },
    "language_info": {
      "name": "python"
    }
  },
  "cells": [
    {
      "cell_type": "code",
      "execution_count": 1,
      "metadata": {
        "colab": {
          "base_uri": "https://localhost:8080/"
        },
        "id": "en4uNZIDW8Kg",
        "outputId": "c7afb28a-a02a-47df-cdda-d6f3a0531cc7"
      },
      "outputs": [
        {
          "output_type": "stream",
          "name": "stdout",
          "text": [
            "Looking in indexes: https://pypi.org/simple, https://us-python.pkg.dev/colab-wheels/public/simple/\n",
            "Requirement already satisfied: pyspark in /usr/local/lib/python3.8/dist-packages (3.3.1)\n",
            "Requirement already satisfied: py4j==0.10.9.5 in /usr/local/lib/python3.8/dist-packages (from pyspark) (0.10.9.5)\n"
          ]
        }
      ],
      "source": [
        "#Installation de pyspark\n",
        "!pip install pyspark"
      ]
    },
    {
      "cell_type": "code",
      "source": [
        "#Importation des librairies\n",
        "import pyspark\n",
        "import pandas as pd\n",
        "from pyspark.sql import SparkSession\n",
        "from pyspark.sql.functions import * "
      ],
      "metadata": {
        "id": "RtM7addjXmYt"
      },
      "execution_count": 2,
      "outputs": []
    },
    {
      "cell_type": "code",
      "source": [
        "#Creation de Sparksession\n",
        "spark = SparkSession.builder.appName('Projet').getOrCreate()"
      ],
      "metadata": {
        "id": "bfOdqBIMX2VW"
      },
      "execution_count": 3,
      "outputs": []
    },
    {
      "cell_type": "code",
      "source": [
        "#Verification de Spark\n",
        "spark"
      ],
      "metadata": {
        "colab": {
          "base_uri": "https://localhost:8080/",
          "height": 219
        },
        "id": "T9tNZhWVYGhX",
        "outputId": "809bac2f-a758-48fc-add1-ec3314124d3d"
      },
      "execution_count": null,
      "outputs": [
        {
          "output_type": "execute_result",
          "data": {
            "text/plain": [
              "<pyspark.sql.session.SparkSession at 0x7f6a47c99250>"
            ],
            "text/html": [
              "\n",
              "            <div>\n",
              "                <p><b>SparkSession - in-memory</b></p>\n",
              "                \n",
              "        <div>\n",
              "            <p><b>SparkContext</b></p>\n",
              "\n",
              "            <p><a href=\"http://4506ed8b0737:4040\">Spark UI</a></p>\n",
              "\n",
              "            <dl>\n",
              "              <dt>Version</dt>\n",
              "                <dd><code>v3.3.1</code></dd>\n",
              "              <dt>Master</dt>\n",
              "                <dd><code>local[*]</code></dd>\n",
              "              <dt>AppName</dt>\n",
              "                <dd><code>Projet</code></dd>\n",
              "            </dl>\n",
              "        </div>\n",
              "        \n",
              "            </div>\n",
              "        "
            ]
          },
          "metadata": {},
          "execution_count": 4
        }
      ]
    },
    {
      "cell_type": "code",
      "source": [
        "#Lecture des fichiers\n",
        "features = spark.read.option('header','true').csv('features.csv',inferSchema=True,nullValue=\"NA\")\n",
        "stores = spark.read.option('header','true').csv('stores.csv',inferSchema=True)\n",
        "train = spark.read.option('header','true').csv('train.csv',inferSchema=True)"
      ],
      "metadata": {
        "id": "4CRWZKkeeXM1"
      },
      "execution_count": 4,
      "outputs": []
    },
    {
      "cell_type": "code",
      "source": [
        "#Affichage de features\n",
        "features.show()"
      ],
      "metadata": {
        "colab": {
          "base_uri": "https://localhost:8080/"
        },
        "id": "mTCYp-SIg6iv",
        "outputId": "e726e114-3cec-4ea0-dd8d-0868bda72574"
      },
      "execution_count": 5,
      "outputs": [
        {
          "output_type": "stream",
          "name": "stdout",
          "text": [
            "+-----+-------------------+-----------+----------+---------+---------+---------+---------+---------+-----------+------------+---------+\n",
            "|Store|               Date|Temperature|Fuel_Price|MarkDown1|MarkDown2|MarkDown3|MarkDown4|MarkDown5|        CPI|Unemployment|IsHoliday|\n",
            "+-----+-------------------+-----------+----------+---------+---------+---------+---------+---------+-----------+------------+---------+\n",
            "|    1|2010-02-05 00:00:00|      42.31|     2.572|     null|     null|     null|     null|     null|211.0963582|       8.106|    false|\n",
            "|    1|2010-02-12 00:00:00|      38.51|     2.548|     null|     null|     null|     null|     null|211.2421698|       8.106|     true|\n",
            "|    1|2010-02-19 00:00:00|      39.93|     2.514|     null|     null|     null|     null|     null|211.2891429|       8.106|    false|\n",
            "|    1|2010-02-26 00:00:00|      46.63|     2.561|     null|     null|     null|     null|     null|211.3196429|       8.106|    false|\n",
            "|    1|2010-03-05 00:00:00|       46.5|     2.625|     null|     null|     null|     null|     null|211.3501429|       8.106|    false|\n",
            "|    1|2010-03-12 00:00:00|      57.79|     2.667|     null|     null|     null|     null|     null|211.3806429|       8.106|    false|\n",
            "|    1|2010-03-19 00:00:00|      54.58|      2.72|     null|     null|     null|     null|     null| 211.215635|       8.106|    false|\n",
            "|    1|2010-03-26 00:00:00|      51.45|     2.732|     null|     null|     null|     null|     null|211.0180424|       8.106|    false|\n",
            "|    1|2010-04-02 00:00:00|      62.27|     2.719|     null|     null|     null|     null|     null|210.8204499|       7.808|    false|\n",
            "|    1|2010-04-09 00:00:00|      65.86|      2.77|     null|     null|     null|     null|     null|210.6228574|       7.808|    false|\n",
            "|    1|2010-04-16 00:00:00|      66.32|     2.808|     null|     null|     null|     null|     null|   210.4887|       7.808|    false|\n",
            "|    1|2010-04-23 00:00:00|      64.84|     2.795|     null|     null|     null|     null|     null|210.4391228|       7.808|    false|\n",
            "|    1|2010-04-30 00:00:00|      67.41|      2.78|     null|     null|     null|     null|     null|210.3895456|       7.808|    false|\n",
            "|    1|2010-05-07 00:00:00|      72.55|     2.835|     null|     null|     null|     null|     null|210.3399684|       7.808|    false|\n",
            "|    1|2010-05-14 00:00:00|      74.78|     2.854|     null|     null|     null|     null|     null|210.3374261|       7.808|    false|\n",
            "|    1|2010-05-21 00:00:00|      76.44|     2.826|     null|     null|     null|     null|     null|210.6170934|       7.808|    false|\n",
            "|    1|2010-05-28 00:00:00|      80.44|     2.759|     null|     null|     null|     null|     null|210.8967606|       7.808|    false|\n",
            "|    1|2010-06-04 00:00:00|      80.69|     2.705|     null|     null|     null|     null|     null|211.1764278|       7.808|    false|\n",
            "|    1|2010-06-11 00:00:00|      80.43|     2.668|     null|     null|     null|     null|     null|211.4560951|       7.808|    false|\n",
            "|    1|2010-06-18 00:00:00|      84.11|     2.637|     null|     null|     null|     null|     null|211.4537719|       7.808|    false|\n",
            "+-----+-------------------+-----------+----------+---------+---------+---------+---------+---------+-----------+------------+---------+\n",
            "only showing top 20 rows\n",
            "\n"
          ]
        }
      ]
    },
    {
      "cell_type": "markdown",
      "source": [
        "# **Phase de Nettoyage**\n"
      ],
      "metadata": {
        "id": "8XijmYyztqWW"
      }
    },
    {
      "cell_type": "code",
      "source": [
        "#Changer le type des Colonnes MarkDown en float\n",
        "for i in range(1,6):colname = 'MarkDown' +str(i)\n",
        "nfeatures =features.withColumn(colname,features[colname].cast(\"double\"))"
      ],
      "metadata": {
        "id": "DO669-OppawY"
      },
      "execution_count": 5,
      "outputs": []
    },
    {
      "cell_type": "code",
      "source": [
        "#Changer le type des colonnes 'CPI', 'Unemployment' en float\n",
        "nfeatures =nfeatures.withColumn('CPI',nfeatures['CPI'].cast(\"double\"))\n",
        "nfeatures =nfeatures.withColumn('Unemployment',nfeatures['Unemployment'].cast(\"double\"))\n"
      ],
      "metadata": {
        "id": "-IIlhYa_s8rP"
      },
      "execution_count": 6,
      "outputs": []
    },
    {
      "cell_type": "code",
      "source": [
        "#Afficher les null de toutes les colonnes\n",
        "Dict_Null = {col:nfeatures.filter(nfeatures[col].isNull()).count() for col in nfeatures.columns}\n",
        "Dict_Null"
      ],
      "metadata": {
        "colab": {
          "base_uri": "https://localhost:8080/"
        },
        "id": "NFVvhQSD9vvw",
        "outputId": "9fcb62d5-49e7-4a9f-d32e-22a58195e3f4"
      },
      "execution_count": null,
      "outputs": [
        {
          "output_type": "execute_result",
          "data": {
            "text/plain": [
              "{'Store': 0,\n",
              " 'Date': 0,\n",
              " 'Temperature': 0,\n",
              " 'Fuel_Price': 0,\n",
              " 'MarkDown1': 4158,\n",
              " 'MarkDown2': 5269,\n",
              " 'MarkDown3': 4577,\n",
              " 'MarkDown4': 4726,\n",
              " 'MarkDown5': 4140,\n",
              " 'CPI': 585,\n",
              " 'Unemployment': 585,\n",
              " 'IsHoliday': 0}"
            ]
          },
          "metadata": {},
          "execution_count": 7
        }
      ]
    },
    {
      "cell_type": "code",
      "source": [
        "#Remaplcer les null par des 0\n",
        "for i in range(1,6):\n",
        "  colname = 'MarkDown' +str(i)\n",
        "  nfeatures= nfeatures.na.fill(value=0,subset=colname)\n"
      ],
      "metadata": {
        "id": "tqX2ZYL6-xY5"
      },
      "execution_count": 7,
      "outputs": []
    },
    {
      "cell_type": "code",
      "source": [
        "#Affichage de nfeatures\n",
        "nfeatures.show()"
      ],
      "metadata": {
        "colab": {
          "base_uri": "https://localhost:8080/"
        },
        "id": "CuEQgjt-J1YL",
        "outputId": "6e3cde35-20c9-4d78-baac-d9d813aeac23"
      },
      "execution_count": 9,
      "outputs": [
        {
          "output_type": "stream",
          "name": "stdout",
          "text": [
            "+-----+-------------------+-----------+----------+---------+---------+---------+---------+---------+-----------+------------+---------+\n",
            "|Store|               Date|Temperature|Fuel_Price|MarkDown1|MarkDown2|MarkDown3|MarkDown4|MarkDown5|        CPI|Unemployment|IsHoliday|\n",
            "+-----+-------------------+-----------+----------+---------+---------+---------+---------+---------+-----------+------------+---------+\n",
            "|    1|2010-02-05 00:00:00|      42.31|     2.572|      0.0|      0.0|      0.0|      0.0|      0.0|211.0963582|       8.106|    false|\n",
            "|    1|2010-02-12 00:00:00|      38.51|     2.548|      0.0|      0.0|      0.0|      0.0|      0.0|211.2421698|       8.106|     true|\n",
            "|    1|2010-02-19 00:00:00|      39.93|     2.514|      0.0|      0.0|      0.0|      0.0|      0.0|211.2891429|       8.106|    false|\n",
            "|    1|2010-02-26 00:00:00|      46.63|     2.561|      0.0|      0.0|      0.0|      0.0|      0.0|211.3196429|       8.106|    false|\n",
            "|    1|2010-03-05 00:00:00|       46.5|     2.625|      0.0|      0.0|      0.0|      0.0|      0.0|211.3501429|       8.106|    false|\n",
            "|    1|2010-03-12 00:00:00|      57.79|     2.667|      0.0|      0.0|      0.0|      0.0|      0.0|211.3806429|       8.106|    false|\n",
            "|    1|2010-03-19 00:00:00|      54.58|      2.72|      0.0|      0.0|      0.0|      0.0|      0.0| 211.215635|       8.106|    false|\n",
            "|    1|2010-03-26 00:00:00|      51.45|     2.732|      0.0|      0.0|      0.0|      0.0|      0.0|211.0180424|       8.106|    false|\n",
            "|    1|2010-04-02 00:00:00|      62.27|     2.719|      0.0|      0.0|      0.0|      0.0|      0.0|210.8204499|       7.808|    false|\n",
            "|    1|2010-04-09 00:00:00|      65.86|      2.77|      0.0|      0.0|      0.0|      0.0|      0.0|210.6228574|       7.808|    false|\n",
            "|    1|2010-04-16 00:00:00|      66.32|     2.808|      0.0|      0.0|      0.0|      0.0|      0.0|   210.4887|       7.808|    false|\n",
            "|    1|2010-04-23 00:00:00|      64.84|     2.795|      0.0|      0.0|      0.0|      0.0|      0.0|210.4391228|       7.808|    false|\n",
            "|    1|2010-04-30 00:00:00|      67.41|      2.78|      0.0|      0.0|      0.0|      0.0|      0.0|210.3895456|       7.808|    false|\n",
            "|    1|2010-05-07 00:00:00|      72.55|     2.835|      0.0|      0.0|      0.0|      0.0|      0.0|210.3399684|       7.808|    false|\n",
            "|    1|2010-05-14 00:00:00|      74.78|     2.854|      0.0|      0.0|      0.0|      0.0|      0.0|210.3374261|       7.808|    false|\n",
            "|    1|2010-05-21 00:00:00|      76.44|     2.826|      0.0|      0.0|      0.0|      0.0|      0.0|210.6170934|       7.808|    false|\n",
            "|    1|2010-05-28 00:00:00|      80.44|     2.759|      0.0|      0.0|      0.0|      0.0|      0.0|210.8967606|       7.808|    false|\n",
            "|    1|2010-06-04 00:00:00|      80.69|     2.705|      0.0|      0.0|      0.0|      0.0|      0.0|211.1764278|       7.808|    false|\n",
            "|    1|2010-06-11 00:00:00|      80.43|     2.668|      0.0|      0.0|      0.0|      0.0|      0.0|211.4560951|       7.808|    false|\n",
            "|    1|2010-06-18 00:00:00|      84.11|     2.637|      0.0|      0.0|      0.0|      0.0|      0.0|211.4537719|       7.808|    false|\n",
            "+-----+-------------------+-----------+----------+---------+---------+---------+---------+---------+-----------+------------+---------+\n",
            "only showing top 20 rows\n",
            "\n"
          ]
        }
      ]
    },
    {
      "cell_type": "code",
      "source": [
        "#Calculer la moyenne des deux colonnes 'CPI' et 'Unemployement'\n",
        "nfeatures.select(mean('CPI')).show()\n",
        "nfeatures.select(mean('Unemployment')).show()"
      ],
      "metadata": {
        "colab": {
          "base_uri": "https://localhost:8080/"
        },
        "id": "RRAxDSPSt6xn",
        "outputId": "dcc74503-2292-4418-d2b5-4fda97b34f9f"
      },
      "execution_count": 32,
      "outputs": [
        {
          "output_type": "stream",
          "name": "stdout",
          "text": [
            "+------------------+\n",
            "|          avg(CPI)|\n",
            "+------------------+\n",
            "|172.46080919156995|\n",
            "+------------------+\n",
            "\n",
            "+-----------------+\n",
            "|avg(Unemployment)|\n",
            "+-----------------+\n",
            "|7.826821038790301|\n",
            "+-----------------+\n",
            "\n"
          ]
        }
      ]
    },
    {
      "cell_type": "code",
      "source": [
        "#Remplacer les valeur null par la moyenne\n",
        "nfeatures= nfeatures.na.fill(value=172.46080930610773,subset=['CPI'])\n",
        "nfeatures= nfeatures.na.fill(value=7.826821038790305,subset=['Unemployment'])"
      ],
      "metadata": {
        "id": "sNNclvnpGKDK"
      },
      "execution_count": 8,
      "outputs": []
    },
    {
      "cell_type": "code",
      "source": [
        "#Calcule le nombre de null dans toutes les colonnes\n",
        "Dict_Null = {col:nfeatures.filter(nfeatures[col].isNull()).count() for col in nfeatures.columns}\n",
        "Dict_Null"
      ],
      "metadata": {
        "colab": {
          "base_uri": "https://localhost:8080/"
        },
        "id": "L1vrpmGpfa_u",
        "outputId": "67b005a1-6b40-4024-883e-057812b32c2b"
      },
      "execution_count": 12,
      "outputs": [
        {
          "output_type": "execute_result",
          "data": {
            "text/plain": [
              "{'Store': 0,\n",
              " 'Date': 0,\n",
              " 'Temperature': 0,\n",
              " 'Fuel_Price': 0,\n",
              " 'MarkDown1': 0,\n",
              " 'MarkDown2': 0,\n",
              " 'MarkDown3': 0,\n",
              " 'MarkDown4': 0,\n",
              " 'MarkDown5': 0,\n",
              " 'CPI': 0,\n",
              " 'Unemployment': 0,\n",
              " 'IsHoliday': 0}"
            ]
          },
          "metadata": {},
          "execution_count": 12
        }
      ]
    },
    {
      "cell_type": "code",
      "source": [
        "#Affichage du schema de stores\n",
        "stores.printSchema()"
      ],
      "metadata": {
        "colab": {
          "base_uri": "https://localhost:8080/"
        },
        "id": "uy-Mo5-9VRW8",
        "outputId": "25819795-5c96-4574-f397-80f18c0eb9b2"
      },
      "execution_count": null,
      "outputs": [
        {
          "output_type": "stream",
          "name": "stdout",
          "text": [
            "root\n",
            " |-- Store: integer (nullable = true)\n",
            " |-- Type: string (nullable = true)\n",
            " |-- Size: integer (nullable = true)\n",
            "\n"
          ]
        }
      ]
    },
    {
      "cell_type": "code",
      "source": [
        "#Affichage du schema de train\n",
        "train.printSchema()"
      ],
      "metadata": {
        "colab": {
          "base_uri": "https://localhost:8080/"
        },
        "id": "UNvGbhXQgIW-",
        "outputId": "6fb22e68-498f-42e3-f3c9-c1265db50d52"
      },
      "execution_count": null,
      "outputs": [
        {
          "output_type": "stream",
          "name": "stdout",
          "text": [
            "root\n",
            " |-- Store: integer (nullable = true)\n",
            " |-- Dept: integer (nullable = true)\n",
            " |-- Date: timestamp (nullable = true)\n",
            " |-- Weekly_Sales: double (nullable = true)\n",
            " |-- IsHoliday: boolean (nullable = true)\n",
            "\n"
          ]
        }
      ]
    },
    {
      "cell_type": "code",
      "source": [
        "#Affichage du schema de nfeatures\n",
        "nfeatures.printSchema()"
      ],
      "metadata": {
        "colab": {
          "base_uri": "https://localhost:8080/"
        },
        "id": "MlYZICPLnJyY",
        "outputId": "168a7b8c-5905-41ec-acc9-3c19906f28e3"
      },
      "execution_count": 13,
      "outputs": [
        {
          "output_type": "stream",
          "name": "stdout",
          "text": [
            "root\n",
            " |-- Store: integer (nullable = true)\n",
            " |-- Date: timestamp (nullable = true)\n",
            " |-- Temperature: double (nullable = true)\n",
            " |-- Fuel_Price: double (nullable = true)\n",
            " |-- MarkDown1: double (nullable = false)\n",
            " |-- MarkDown2: double (nullable = false)\n",
            " |-- MarkDown3: double (nullable = false)\n",
            " |-- MarkDown4: double (nullable = false)\n",
            " |-- MarkDown5: double (nullable = false)\n",
            " |-- CPI: double (nullable = false)\n",
            " |-- Unemployment: double (nullable = false)\n",
            " |-- IsHoliday: boolean (nullable = true)\n",
            "\n"
          ]
        }
      ]
    },
    {
      "cell_type": "markdown",
      "source": [
        "# **Jointure des tables**"
      ],
      "metadata": {
        "id": "USzWEHctmP2c"
      }
    },
    {
      "cell_type": "code",
      "source": [
        "#joindre les deux Dataframe train et stores\n",
        "train = train.join(stores, how = 'inner', on = 'Store')"
      ],
      "metadata": {
        "id": "VvNgQVshi8qV"
      },
      "execution_count": 10,
      "outputs": []
    },
    {
      "cell_type": "code",
      "source": [
        "#Joindre les deux DataFrame (train ; nfeatures) et supprimer la colonne en double \"IsHoliday\" \n",
        "nfeatures= nfeatures.drop('IsHoliday')\n",
        "train = train.join(nfeatures, how = 'inner', on = ['Store', 'Date'])"
      ],
      "metadata": {
        "colab": {
          "base_uri": "https://localhost:8080/"
        },
        "id": "ZBiBYsAVk9LM",
        "outputId": "f22fbaa3-5110-481b-bea6-d57bb482a974"
      },
      "execution_count": 11,
      "outputs": [
        {
          "output_type": "stream",
          "name": "stdout",
          "text": [
            "+-----+-------------------+----+------------+---------+----+------+-----------+----------+---------+---------+---------+---------+---------+-----------+------------+\n",
            "|Store|               Date|Dept|Weekly_Sales|IsHoliday|Type|  Size|Temperature|Fuel_Price|MarkDown1|MarkDown2|MarkDown3|MarkDown4|MarkDown5|        CPI|Unemployment|\n",
            "+-----+-------------------+----+------------+---------+----+------+-----------+----------+---------+---------+---------+---------+---------+-----------+------------+\n",
            "|    1|2010-02-05 00:00:00|   1|     24924.5|    false|   A|151315|      42.31|     2.572|      0.0|      0.0|      0.0|      0.0|      0.0|211.0963582|       8.106|\n",
            "|    1|2010-02-12 00:00:00|   1|    46039.49|     true|   A|151315|      38.51|     2.548|      0.0|      0.0|      0.0|      0.0|      0.0|211.2421698|       8.106|\n",
            "|    1|2010-02-19 00:00:00|   1|    41595.55|    false|   A|151315|      39.93|     2.514|      0.0|      0.0|      0.0|      0.0|      0.0|211.2891429|       8.106|\n",
            "|    1|2010-02-26 00:00:00|   1|    19403.54|    false|   A|151315|      46.63|     2.561|      0.0|      0.0|      0.0|      0.0|      0.0|211.3196429|       8.106|\n",
            "|    1|2010-03-05 00:00:00|   1|     21827.9|    false|   A|151315|       46.5|     2.625|      0.0|      0.0|      0.0|      0.0|      0.0|211.3501429|       8.106|\n",
            "|    1|2010-03-12 00:00:00|   1|    21043.39|    false|   A|151315|      57.79|     2.667|      0.0|      0.0|      0.0|      0.0|      0.0|211.3806429|       8.106|\n",
            "|    1|2010-03-19 00:00:00|   1|    22136.64|    false|   A|151315|      54.58|      2.72|      0.0|      0.0|      0.0|      0.0|      0.0| 211.215635|       8.106|\n",
            "|    1|2010-03-26 00:00:00|   1|    26229.21|    false|   A|151315|      51.45|     2.732|      0.0|      0.0|      0.0|      0.0|      0.0|211.0180424|       8.106|\n",
            "|    1|2010-04-02 00:00:00|   1|    57258.43|    false|   A|151315|      62.27|     2.719|      0.0|      0.0|      0.0|      0.0|      0.0|210.8204499|       7.808|\n",
            "|    1|2010-04-09 00:00:00|   1|    42960.91|    false|   A|151315|      65.86|      2.77|      0.0|      0.0|      0.0|      0.0|      0.0|210.6228574|       7.808|\n",
            "|    1|2010-04-16 00:00:00|   1|    17596.96|    false|   A|151315|      66.32|     2.808|      0.0|      0.0|      0.0|      0.0|      0.0|   210.4887|       7.808|\n",
            "|    1|2010-04-23 00:00:00|   1|    16145.35|    false|   A|151315|      64.84|     2.795|      0.0|      0.0|      0.0|      0.0|      0.0|210.4391228|       7.808|\n",
            "|    1|2010-04-30 00:00:00|   1|    16555.11|    false|   A|151315|      67.41|      2.78|      0.0|      0.0|      0.0|      0.0|      0.0|210.3895456|       7.808|\n",
            "|    1|2010-05-07 00:00:00|   1|    17413.94|    false|   A|151315|      72.55|     2.835|      0.0|      0.0|      0.0|      0.0|      0.0|210.3399684|       7.808|\n",
            "|    1|2010-05-14 00:00:00|   1|    18926.74|    false|   A|151315|      74.78|     2.854|      0.0|      0.0|      0.0|      0.0|      0.0|210.3374261|       7.808|\n",
            "|    1|2010-05-21 00:00:00|   1|    14773.04|    false|   A|151315|      76.44|     2.826|      0.0|      0.0|      0.0|      0.0|      0.0|210.6170934|       7.808|\n",
            "|    1|2010-05-28 00:00:00|   1|    15580.43|    false|   A|151315|      80.44|     2.759|      0.0|      0.0|      0.0|      0.0|      0.0|210.8967606|       7.808|\n",
            "|    1|2010-06-04 00:00:00|   1|    17558.09|    false|   A|151315|      80.69|     2.705|      0.0|      0.0|      0.0|      0.0|      0.0|211.1764278|       7.808|\n",
            "|    1|2010-06-11 00:00:00|   1|    16637.62|    false|   A|151315|      80.43|     2.668|      0.0|      0.0|      0.0|      0.0|      0.0|211.4560951|       7.808|\n",
            "|    1|2010-06-18 00:00:00|   1|    16216.27|    false|   A|151315|      84.11|     2.637|      0.0|      0.0|      0.0|      0.0|      0.0|211.4537719|       7.808|\n",
            "+-----+-------------------+----+------------+---------+----+------+-----------+----------+---------+---------+---------+---------+---------+-----------+------------+\n",
            "only showing top 20 rows\n",
            "\n"
          ]
        }
      ]
    },
    {
      "cell_type": "code",
      "source": [
        "#Affichage de train\n",
        "train.show()"
      ],
      "metadata": {
        "colab": {
          "base_uri": "https://localhost:8080/"
        },
        "id": "fOXI_nlMtKuM",
        "outputId": "ee71c238-6dfd-497e-95e4-e8dcd6d47409"
      },
      "execution_count": null,
      "outputs": [
        {
          "output_type": "stream",
          "name": "stdout",
          "text": [
            "+-----+-------------------+----+------------+---------+----+------+-----------+----------+---------+---------+---------+---------+---------+-----------+------------+\n",
            "|Store|               Date|Dept|Weekly_Sales|IsHoliday|Type|  Size|Temperature|Fuel_Price|MarkDown1|MarkDown2|MarkDown3|MarkDown4|MarkDown5|        CPI|Unemployment|\n",
            "+-----+-------------------+----+------------+---------+----+------+-----------+----------+---------+---------+---------+---------+---------+-----------+------------+\n",
            "|    1|2010-02-05 00:00:00|   1|     24924.5|    false|   A|151315|      42.31|     2.572|      0.0|      0.0|      0.0|      0.0|      0.0|211.0963582|       8.106|\n",
            "|    1|2010-02-12 00:00:00|   1|    46039.49|     true|   A|151315|      38.51|     2.548|      0.0|      0.0|      0.0|      0.0|      0.0|211.2421698|       8.106|\n",
            "|    1|2010-02-19 00:00:00|   1|    41595.55|    false|   A|151315|      39.93|     2.514|      0.0|      0.0|      0.0|      0.0|      0.0|211.2891429|       8.106|\n",
            "|    1|2010-02-26 00:00:00|   1|    19403.54|    false|   A|151315|      46.63|     2.561|      0.0|      0.0|      0.0|      0.0|      0.0|211.3196429|       8.106|\n",
            "|    1|2010-03-05 00:00:00|   1|     21827.9|    false|   A|151315|       46.5|     2.625|      0.0|      0.0|      0.0|      0.0|      0.0|211.3501429|       8.106|\n",
            "|    1|2010-03-12 00:00:00|   1|    21043.39|    false|   A|151315|      57.79|     2.667|      0.0|      0.0|      0.0|      0.0|      0.0|211.3806429|       8.106|\n",
            "|    1|2010-03-19 00:00:00|   1|    22136.64|    false|   A|151315|      54.58|      2.72|      0.0|      0.0|      0.0|      0.0|      0.0| 211.215635|       8.106|\n",
            "|    1|2010-03-26 00:00:00|   1|    26229.21|    false|   A|151315|      51.45|     2.732|      0.0|      0.0|      0.0|      0.0|      0.0|211.0180424|       8.106|\n",
            "|    1|2010-04-02 00:00:00|   1|    57258.43|    false|   A|151315|      62.27|     2.719|      0.0|      0.0|      0.0|      0.0|      0.0|210.8204499|       7.808|\n",
            "|    1|2010-04-09 00:00:00|   1|    42960.91|    false|   A|151315|      65.86|      2.77|      0.0|      0.0|      0.0|      0.0|      0.0|210.6228574|       7.808|\n",
            "|    1|2010-04-16 00:00:00|   1|    17596.96|    false|   A|151315|      66.32|     2.808|      0.0|      0.0|      0.0|      0.0|      0.0|   210.4887|       7.808|\n",
            "|    1|2010-04-23 00:00:00|   1|    16145.35|    false|   A|151315|      64.84|     2.795|      0.0|      0.0|      0.0|      0.0|      0.0|210.4391228|       7.808|\n",
            "|    1|2010-04-30 00:00:00|   1|    16555.11|    false|   A|151315|      67.41|      2.78|      0.0|      0.0|      0.0|      0.0|      0.0|210.3895456|       7.808|\n",
            "|    1|2010-05-07 00:00:00|   1|    17413.94|    false|   A|151315|      72.55|     2.835|      0.0|      0.0|      0.0|      0.0|      0.0|210.3399684|       7.808|\n",
            "|    1|2010-05-14 00:00:00|   1|    18926.74|    false|   A|151315|      74.78|     2.854|      0.0|      0.0|      0.0|      0.0|      0.0|210.3374261|       7.808|\n",
            "|    1|2010-05-21 00:00:00|   1|    14773.04|    false|   A|151315|      76.44|     2.826|      0.0|      0.0|      0.0|      0.0|      0.0|210.6170934|       7.808|\n",
            "|    1|2010-05-28 00:00:00|   1|    15580.43|    false|   A|151315|      80.44|     2.759|      0.0|      0.0|      0.0|      0.0|      0.0|210.8967606|       7.808|\n",
            "|    1|2010-06-04 00:00:00|   1|    17558.09|    false|   A|151315|      80.69|     2.705|      0.0|      0.0|      0.0|      0.0|      0.0|211.1764278|       7.808|\n",
            "|    1|2010-06-11 00:00:00|   1|    16637.62|    false|   A|151315|      80.43|     2.668|      0.0|      0.0|      0.0|      0.0|      0.0|211.4560951|       7.808|\n",
            "|    1|2010-06-18 00:00:00|   1|    16216.27|    false|   A|151315|      84.11|     2.637|      0.0|      0.0|      0.0|      0.0|      0.0|211.4537719|       7.808|\n",
            "+-----+-------------------+----+------------+---------+----+------+-----------+----------+---------+---------+---------+---------+---------+-----------+------------+\n",
            "only showing top 20 rows\n",
            "\n"
          ]
        }
      ]
    },
    {
      "cell_type": "markdown",
      "source": [
        "# **Transformation des donnees**"
      ],
      "metadata": {
        "id": "GTMBuLwVvfs8"
      }
    },
    {
      "cell_type": "code",
      "source": [
        "#Importation de StringIdexer\n",
        "from pyspark.ml.feature import StringIndexer\n",
        "\n",
        "#Convertir la colonne Type en float en devenant Type_i et supprimer la colonne d'origine Type\n",
        "indexer = StringIndexer(inputCols=[\"Type\"],outputCols=[\"Type_i\"])\n",
        "train=indexer.fit(train).transform(train)\n",
        "train = train.drop('Type')"
      ],
      "metadata": {
        "id": "TkINpipwuJvp"
      },
      "execution_count": 12,
      "outputs": []
    },
    {
      "cell_type": "code",
      "source": [
        "#Affichage de train\n",
        "train.show()"
      ],
      "metadata": {
        "id": "Uo6ZSWcpw9Hp",
        "colab": {
          "base_uri": "https://localhost:8080/"
        },
        "outputId": "56ff4db5-c1cf-4669-8955-c35e03bcb22c"
      },
      "execution_count": null,
      "outputs": [
        {
          "output_type": "stream",
          "name": "stdout",
          "text": [
            "+-----+-------------------+----+------------+---------+------+-----------+----------+---------+---------+---------+---------+---------+-----------+------------+------+\n",
            "|Store|               Date|Dept|Weekly_Sales|IsHoliday|  Size|Temperature|Fuel_Price|MarkDown1|MarkDown2|MarkDown3|MarkDown4|MarkDown5|        CPI|Unemployment|Type_i|\n",
            "+-----+-------------------+----+------------+---------+------+-----------+----------+---------+---------+---------+---------+---------+-----------+------------+------+\n",
            "|    1|2010-02-05 00:00:00|   1|     24924.5|    false|151315|      42.31|     2.572|      0.0|      0.0|      0.0|      0.0|      0.0|211.0963582|       8.106|   0.0|\n",
            "|    1|2010-02-12 00:00:00|   1|    46039.49|     true|151315|      38.51|     2.548|      0.0|      0.0|      0.0|      0.0|      0.0|211.2421698|       8.106|   0.0|\n",
            "|    1|2010-02-19 00:00:00|   1|    41595.55|    false|151315|      39.93|     2.514|      0.0|      0.0|      0.0|      0.0|      0.0|211.2891429|       8.106|   0.0|\n",
            "|    1|2010-02-26 00:00:00|   1|    19403.54|    false|151315|      46.63|     2.561|      0.0|      0.0|      0.0|      0.0|      0.0|211.3196429|       8.106|   0.0|\n",
            "|    1|2010-03-05 00:00:00|   1|     21827.9|    false|151315|       46.5|     2.625|      0.0|      0.0|      0.0|      0.0|      0.0|211.3501429|       8.106|   0.0|\n",
            "|    1|2010-03-12 00:00:00|   1|    21043.39|    false|151315|      57.79|     2.667|      0.0|      0.0|      0.0|      0.0|      0.0|211.3806429|       8.106|   0.0|\n",
            "|    1|2010-03-19 00:00:00|   1|    22136.64|    false|151315|      54.58|      2.72|      0.0|      0.0|      0.0|      0.0|      0.0| 211.215635|       8.106|   0.0|\n",
            "|    1|2010-03-26 00:00:00|   1|    26229.21|    false|151315|      51.45|     2.732|      0.0|      0.0|      0.0|      0.0|      0.0|211.0180424|       8.106|   0.0|\n",
            "|    1|2010-04-02 00:00:00|   1|    57258.43|    false|151315|      62.27|     2.719|      0.0|      0.0|      0.0|      0.0|      0.0|210.8204499|       7.808|   0.0|\n",
            "|    1|2010-04-09 00:00:00|   1|    42960.91|    false|151315|      65.86|      2.77|      0.0|      0.0|      0.0|      0.0|      0.0|210.6228574|       7.808|   0.0|\n",
            "|    1|2010-04-16 00:00:00|   1|    17596.96|    false|151315|      66.32|     2.808|      0.0|      0.0|      0.0|      0.0|      0.0|   210.4887|       7.808|   0.0|\n",
            "|    1|2010-04-23 00:00:00|   1|    16145.35|    false|151315|      64.84|     2.795|      0.0|      0.0|      0.0|      0.0|      0.0|210.4391228|       7.808|   0.0|\n",
            "|    1|2010-04-30 00:00:00|   1|    16555.11|    false|151315|      67.41|      2.78|      0.0|      0.0|      0.0|      0.0|      0.0|210.3895456|       7.808|   0.0|\n",
            "|    1|2010-05-07 00:00:00|   1|    17413.94|    false|151315|      72.55|     2.835|      0.0|      0.0|      0.0|      0.0|      0.0|210.3399684|       7.808|   0.0|\n",
            "|    1|2010-05-14 00:00:00|   1|    18926.74|    false|151315|      74.78|     2.854|      0.0|      0.0|      0.0|      0.0|      0.0|210.3374261|       7.808|   0.0|\n",
            "|    1|2010-05-21 00:00:00|   1|    14773.04|    false|151315|      76.44|     2.826|      0.0|      0.0|      0.0|      0.0|      0.0|210.6170934|       7.808|   0.0|\n",
            "|    1|2010-05-28 00:00:00|   1|    15580.43|    false|151315|      80.44|     2.759|      0.0|      0.0|      0.0|      0.0|      0.0|210.8967606|       7.808|   0.0|\n",
            "|    1|2010-06-04 00:00:00|   1|    17558.09|    false|151315|      80.69|     2.705|      0.0|      0.0|      0.0|      0.0|      0.0|211.1764278|       7.808|   0.0|\n",
            "|    1|2010-06-11 00:00:00|   1|    16637.62|    false|151315|      80.43|     2.668|      0.0|      0.0|      0.0|      0.0|      0.0|211.4560951|       7.808|   0.0|\n",
            "|    1|2010-06-18 00:00:00|   1|    16216.27|    false|151315|      84.11|     2.637|      0.0|      0.0|      0.0|      0.0|      0.0|211.4537719|       7.808|   0.0|\n",
            "+-----+-------------------+----+------------+---------+------+-----------+----------+---------+---------+---------+---------+---------+-----------+------------+------+\n",
            "only showing top 20 rows\n",
            "\n"
          ]
        }
      ]
    },
    {
      "cell_type": "code",
      "source": [
        "#Convertir la colonne IsHoliday en integer(0 pour false et 1 pour true)\n",
        "train = train.withColumn('IsHoliday',when(train.IsHoliday == 'false', 0).otherwise(1))"
      ],
      "metadata": {
        "id": "t0hGtlyaoj5l"
      },
      "execution_count": 14,
      "outputs": []
    },
    {
      "cell_type": "code",
      "source": [
        "#Affichage de train\n",
        "train.show()"
      ],
      "metadata": {
        "colab": {
          "base_uri": "https://localhost:8080/"
        },
        "id": "_ehCShElrKUz",
        "outputId": "e63f2275-2863-445f-ac01-5717fbccc3f8"
      },
      "execution_count": 32,
      "outputs": [
        {
          "output_type": "stream",
          "name": "stdout",
          "text": [
            "+-----+-------------------+----+------------+---------+------+-----------+----------+---------+---------+---------+---------+---------+-----------+------------+------+\n",
            "|Store|               Date|Dept|Weekly_Sales|IsHoliday|  Size|Temperature|Fuel_Price|MarkDown1|MarkDown2|MarkDown3|MarkDown4|MarkDown5|        CPI|Unemployment|Type_i|\n",
            "+-----+-------------------+----+------------+---------+------+-----------+----------+---------+---------+---------+---------+---------+-----------+------------+------+\n",
            "|    1|2010-02-05 00:00:00|   1|     24924.5|        0|151315|      42.31|     2.572|      0.0|      0.0|      0.0|      0.0|      0.0|211.0963582|       8.106|   0.0|\n",
            "|    1|2010-02-12 00:00:00|   1|    46039.49|        1|151315|      38.51|     2.548|      0.0|      0.0|      0.0|      0.0|      0.0|211.2421698|       8.106|   0.0|\n",
            "|    1|2010-02-19 00:00:00|   1|    41595.55|        0|151315|      39.93|     2.514|      0.0|      0.0|      0.0|      0.0|      0.0|211.2891429|       8.106|   0.0|\n",
            "|    1|2010-02-26 00:00:00|   1|    19403.54|        0|151315|      46.63|     2.561|      0.0|      0.0|      0.0|      0.0|      0.0|211.3196429|       8.106|   0.0|\n",
            "|    1|2010-03-05 00:00:00|   1|     21827.9|        0|151315|       46.5|     2.625|      0.0|      0.0|      0.0|      0.0|      0.0|211.3501429|       8.106|   0.0|\n",
            "|    1|2010-03-12 00:00:00|   1|    21043.39|        0|151315|      57.79|     2.667|      0.0|      0.0|      0.0|      0.0|      0.0|211.3806429|       8.106|   0.0|\n",
            "|    1|2010-03-19 00:00:00|   1|    22136.64|        0|151315|      54.58|      2.72|      0.0|      0.0|      0.0|      0.0|      0.0| 211.215635|       8.106|   0.0|\n",
            "|    1|2010-03-26 00:00:00|   1|    26229.21|        0|151315|      51.45|     2.732|      0.0|      0.0|      0.0|      0.0|      0.0|211.0180424|       8.106|   0.0|\n",
            "|    1|2010-04-02 00:00:00|   1|    57258.43|        0|151315|      62.27|     2.719|      0.0|      0.0|      0.0|      0.0|      0.0|210.8204499|       7.808|   0.0|\n",
            "|    1|2010-04-09 00:00:00|   1|    42960.91|        0|151315|      65.86|      2.77|      0.0|      0.0|      0.0|      0.0|      0.0|210.6228574|       7.808|   0.0|\n",
            "|    1|2010-04-16 00:00:00|   1|    17596.96|        0|151315|      66.32|     2.808|      0.0|      0.0|      0.0|      0.0|      0.0|   210.4887|       7.808|   0.0|\n",
            "|    1|2010-04-23 00:00:00|   1|    16145.35|        0|151315|      64.84|     2.795|      0.0|      0.0|      0.0|      0.0|      0.0|210.4391228|       7.808|   0.0|\n",
            "|    1|2010-04-30 00:00:00|   1|    16555.11|        0|151315|      67.41|      2.78|      0.0|      0.0|      0.0|      0.0|      0.0|210.3895456|       7.808|   0.0|\n",
            "|    1|2010-05-07 00:00:00|   1|    17413.94|        0|151315|      72.55|     2.835|      0.0|      0.0|      0.0|      0.0|      0.0|210.3399684|       7.808|   0.0|\n",
            "|    1|2010-05-14 00:00:00|   1|    18926.74|        0|151315|      74.78|     2.854|      0.0|      0.0|      0.0|      0.0|      0.0|210.3374261|       7.808|   0.0|\n",
            "|    1|2010-05-21 00:00:00|   1|    14773.04|        0|151315|      76.44|     2.826|      0.0|      0.0|      0.0|      0.0|      0.0|210.6170934|       7.808|   0.0|\n",
            "|    1|2010-05-28 00:00:00|   1|    15580.43|        0|151315|      80.44|     2.759|      0.0|      0.0|      0.0|      0.0|      0.0|210.8967606|       7.808|   0.0|\n",
            "|    1|2010-06-04 00:00:00|   1|    17558.09|        0|151315|      80.69|     2.705|      0.0|      0.0|      0.0|      0.0|      0.0|211.1764278|       7.808|   0.0|\n",
            "|    1|2010-06-11 00:00:00|   1|    16637.62|        0|151315|      80.43|     2.668|      0.0|      0.0|      0.0|      0.0|      0.0|211.4560951|       7.808|   0.0|\n",
            "|    1|2010-06-18 00:00:00|   1|    16216.27|        0|151315|      84.11|     2.637|      0.0|      0.0|      0.0|      0.0|      0.0|211.4537719|       7.808|   0.0|\n",
            "+-----+-------------------+----+------------+---------+------+-----------+----------+---------+---------+---------+---------+---------+-----------+------------+------+\n",
            "only showing top 20 rows\n",
            "\n"
          ]
        }
      ]
    },
    {
      "cell_type": "code",
      "source": [
        "#Grouper notre DataFrame par les colonnes Store et Date,calculer la sum de Weekly_sales et la moyenne pour le reste des colonnes tout en les renommant\n",
        "df =train.groupBy(['Store' , 'Date']).agg(sum('Weekly_Sales').alias('Sales'),avg('IsHoliday').alias('IsHoliday'),avg( 'Size').alias( 'Size'),\n",
        "                                     avg('Temperature').alias('Temperature'),avg('Fuel_Price').alias('Fuel_Price'),avg('CPI').alias('CPI'),\n",
        "                                      avg('Unemployment').alias('Unemployment'),avg('Type_i').alias('Type_i'))"
      ],
      "metadata": {
        "id": "tYHyP7bjHbz6"
      },
      "execution_count": 15,
      "outputs": []
    },
    {
      "cell_type": "code",
      "source": [
        "#train.write.csv('feature_test.csv')"
      ],
      "metadata": {
        "id": "QpcwZ9hrFxLu"
      },
      "execution_count": null,
      "outputs": []
    },
    {
      "cell_type": "code",
      "source": [
        "#Affichage de df\n",
        "df.show()"
      ],
      "metadata": {
        "colab": {
          "base_uri": "https://localhost:8080/"
        },
        "id": "wbFrWTrnGdts",
        "outputId": "3c7f9c90-001b-4ac2-91df-8b7f617a31d4"
      },
      "execution_count": 20,
      "outputs": [
        {
          "output_type": "stream",
          "name": "stdout",
          "text": [
            "+-----+----------+------------------+---------+--------+------------------+------------------+------------------+------------------+------+\n",
            "|Store|      Date|             Sales|IsHoliday|    Size|       Temperature|        Fuel_Price|               CPI|      Unemployment|Type_i|\n",
            "+-----+----------+------------------+---------+--------+------------------+------------------+------------------+------------------+------+\n",
            "|    4|2010-06-25|1846651.9499999997|      0.0|205863.0| 81.10000000000005|2.6539999999999973| 126.1265999999998|             7.896|   0.0|\n",
            "|   16|2010-03-12|         445393.74|      0.0| 57197.0| 28.64000000000004|2.6839999999999984|189.73720750000018| 7.038999999999992|   1.0|\n",
            "|   25|2010-02-05| 677231.6299999999|      0.0|128107.0|21.099999999999987| 2.783999999999999|204.24719349999984| 8.187000000000008|   1.0|\n",
            "|    1|2010-12-03|1548033.7799999993|      0.0|151315.0| 49.26999999999999| 2.707999999999999|211.60719299999985| 7.838000000000005|   0.0|\n",
            "|    2|2012-08-24|        1876788.15|      0.0|202307.0| 76.90999999999993|3.6200000000000028| 221.8083518000002| 6.564999999999999|   0.0|\n",
            "|    4|2011-03-18|        2116475.38|      0.0|205863.0|51.860000000000035|3.4950000000000028|       128.5121935|6.5099999999999945|   0.0|\n",
            "|    4|2012-10-05|        2209835.43|      0.0|205863.0|63.070000000000036|3.6200000000000028| 131.0756666999999|3.8789999999999987|   0.0|\n",
            "|    7|2011-07-15| 642748.2100000002|      0.0| 70713.0|54.369999999999926|3.5320000000000036|193.31254839999983| 8.622000000000005|   1.0|\n",
            "|    7|2012-02-10|         563460.77|      1.0| 70713.0|18.789999999999985| 3.103000000000002|196.91950560000024| 8.255999999999986|   1.0|\n",
            "|    8|2010-12-10|1069061.6300000001|      0.0|155078.0|42.469999999999956|2.8429999999999978|214.81552139999988|6.4329999999999945|   0.0|\n",
            "|   10|2011-10-14|1704753.0199999998|      0.0|126512.0| 70.27000000000007|3.6980000000000013|129.77064520000016| 7.874000000000011|   1.0|\n",
            "|   13|2012-08-24|2059458.2500000007|      0.0|219622.0| 77.36999999999992|3.5819999999999954|130.83816130000008| 5.764999999999991|   0.0|\n",
            "|   15|2011-10-21|         603318.89|      0.0|123737.0|51.670000000000044|3.7570000000000032|       136.5017742| 7.865999999999989|   1.0|\n",
            "|   23|2011-10-28|        1407191.96|      0.0|114533.0|42.570000000000036|3.6040000000000068|136.48845160000013| 4.419999999999998|   1.0|\n",
            "|   26|2012-03-16| 919503.4000000004|      0.0|152513.0| 35.05999999999996|3.8669999999999973| 137.5843870999999| 7.466999999999996|   0.0|\n",
            "|   29|2011-04-08| 505304.3300000001|      0.0| 93638.0|44.420000000000016|3.7199999999999998|134.17777420000004| 9.966000000000003|   1.0|\n",
            "|   29|2011-06-03|         598251.57|      0.0| 93638.0| 70.09000000000003| 3.973000000000003|       134.8551613| 9.966000000000003|   1.0|\n",
            "|    3|2010-07-23|         352864.49|      0.0| 37392.0| 83.31999999999998| 2.608000000000002| 214.5564967999999| 7.346000000000003|   1.0|\n",
            "|   19|2010-02-26|1373270.0599999998|      0.0|203819.0|30.329999999999973|2.9099999999999975|131.68599999999986| 8.350000000000012|   0.0|\n",
            "|   21|2010-02-19| 867283.2499999998|      0.0|140167.0|             39.75|2.5140000000000016|210.94516049999987| 8.324000000000005|   1.0|\n",
            "+-----+----------+------------------+---------+--------+------------------+------------------+------------------+------------------+------+\n",
            "only showing top 20 rows\n",
            "\n"
          ]
        }
      ]
    },
    {
      "cell_type": "code",
      "source": [
        "#Afficher le schema de df\n",
        "df.printSchema()"
      ],
      "metadata": {
        "colab": {
          "base_uri": "https://localhost:8080/"
        },
        "id": "n_x0I9j3u5EF",
        "outputId": "a0a54b97-4712-4994-8e2e-b80743e557c7"
      },
      "execution_count": 19,
      "outputs": [
        {
          "output_type": "stream",
          "name": "stdout",
          "text": [
            "root\n",
            " |-- Store: integer (nullable = true)\n",
            " |-- Date: date (nullable = true)\n",
            " |-- Sales: double (nullable = true)\n",
            " |-- IsHoliday: double (nullable = true)\n",
            " |-- Size: double (nullable = true)\n",
            " |-- Temperature: double (nullable = true)\n",
            " |-- Fuel_Price: double (nullable = true)\n",
            " |-- CPI: double (nullable = true)\n",
            " |-- Unemployment: double (nullable = true)\n",
            " |-- Type_i: double (nullable = true)\n",
            "\n"
          ]
        }
      ]
    },
    {
      "cell_type": "code",
      "source": [
        "#Changer le format de la date\n",
        "df=df.withColumn(\"Date\",to_date(col(\"Date\"), \"MM-dd-yyyy\"))"
      ],
      "metadata": {
        "id": "cL8lrhGGmmbw"
      },
      "execution_count": 18,
      "outputs": []
    },
    {
      "cell_type": "code",
      "source": [
        "#Importation de VectorAssembler\n",
        "from pyspark.ml.feature import VectorAssembler\n",
        "\n",
        "#Selectionner les colonnes du vecteur en les regroupant dans une seule colonne Independent_Features\n",
        "featureassembler = VectorAssembler(inputCols=['Store','IsHoliday','Size','Temperature','Fuel_Price','CPI','Unemployment','Type_i'],outputCol=\"Independent_Features\")\n",
        "df1 =featureassembler.transform(df)"
      ],
      "metadata": {
        "id": "M5dYiVbLl4rJ"
      },
      "execution_count": 22,
      "outputs": []
    },
    {
      "cell_type": "code",
      "source": [
        "#Affichage de df1\n",
        "df1.show()"
      ],
      "metadata": {
        "colab": {
          "base_uri": "https://localhost:8080/"
        },
        "id": "Bni2X7WmpLkX",
        "outputId": "650407d9-cc4a-43cd-8d9f-5c3aad4dce35"
      },
      "execution_count": 33,
      "outputs": [
        {
          "output_type": "stream",
          "name": "stdout",
          "text": [
            "+-----+----------+------------------+---------+--------+------------------+------------------+------------------+------------------+------+--------------------+\n",
            "|Store|      Date|             Sales|IsHoliday|    Size|       Temperature|        Fuel_Price|               CPI|      Unemployment|Type_i|Independent_Features|\n",
            "+-----+----------+------------------+---------+--------+------------------+------------------+------------------+------------------+------+--------------------+\n",
            "|    4|2010-06-25|1846651.9499999997|      0.0|205863.0| 81.10000000000005|2.6539999999999973| 126.1265999999998|             7.896|   0.0|[4.0,0.0,205863.0...|\n",
            "|   16|2010-03-12|         445393.74|      0.0| 57197.0| 28.64000000000004|2.6839999999999984|189.73720750000018| 7.038999999999992|   1.0|[16.0,0.0,57197.0...|\n",
            "|   25|2010-02-05| 677231.6299999999|      0.0|128107.0|21.099999999999987| 2.783999999999999|204.24719349999984| 8.187000000000008|   1.0|[25.0,0.0,128107....|\n",
            "|    1|2010-12-03|1548033.7799999993|      0.0|151315.0| 49.26999999999999| 2.707999999999999|211.60719299999985| 7.838000000000005|   0.0|[1.0,0.0,151315.0...|\n",
            "|    2|2012-08-24|        1876788.15|      0.0|202307.0| 76.90999999999993|3.6200000000000028| 221.8083518000002| 6.564999999999999|   0.0|[2.0,0.0,202307.0...|\n",
            "|    4|2011-03-18|        2116475.38|      0.0|205863.0|51.860000000000035|3.4950000000000028|       128.5121935|6.5099999999999945|   0.0|[4.0,0.0,205863.0...|\n",
            "|    4|2012-10-05|        2209835.43|      0.0|205863.0|63.070000000000036|3.6200000000000028| 131.0756666999999|3.8789999999999987|   0.0|[4.0,0.0,205863.0...|\n",
            "|    7|2011-07-15| 642748.2100000002|      0.0| 70713.0|54.369999999999926|3.5320000000000036|193.31254839999983| 8.622000000000005|   1.0|[7.0,0.0,70713.0,...|\n",
            "|    7|2012-02-10|         563460.77|      1.0| 70713.0|18.789999999999985| 3.103000000000002|196.91950560000024| 8.255999999999986|   1.0|[7.0,1.0,70713.0,...|\n",
            "|    8|2010-12-10|1069061.6300000001|      0.0|155078.0|42.469999999999956|2.8429999999999978|214.81552139999988|6.4329999999999945|   0.0|[8.0,0.0,155078.0...|\n",
            "|   10|2011-10-14|1704753.0199999998|      0.0|126512.0| 70.27000000000007|3.6980000000000013|129.77064520000016| 7.874000000000011|   1.0|[10.0,0.0,126512....|\n",
            "|   13|2012-08-24|2059458.2500000007|      0.0|219622.0| 77.36999999999992|3.5819999999999954|130.83816130000008| 5.764999999999991|   0.0|[13.0,0.0,219622....|\n",
            "|   15|2011-10-21|         603318.89|      0.0|123737.0|51.670000000000044|3.7570000000000032|       136.5017742| 7.865999999999989|   1.0|[15.0,0.0,123737....|\n",
            "|   23|2011-10-28|        1407191.96|      0.0|114533.0|42.570000000000036|3.6040000000000068|136.48845160000013| 4.419999999999998|   1.0|[23.0,0.0,114533....|\n",
            "|   26|2012-03-16| 919503.4000000004|      0.0|152513.0| 35.05999999999996|3.8669999999999973| 137.5843870999999| 7.466999999999996|   0.0|[26.0,0.0,152513....|\n",
            "|   29|2011-04-08| 505304.3300000001|      0.0| 93638.0|44.420000000000016|3.7199999999999998|134.17777420000004| 9.966000000000003|   1.0|[29.0,0.0,93638.0...|\n",
            "|   29|2011-06-03|         598251.57|      0.0| 93638.0| 70.09000000000003| 3.973000000000003|       134.8551613| 9.966000000000003|   1.0|[29.0,0.0,93638.0...|\n",
            "|    3|2010-07-23|         352864.49|      0.0| 37392.0| 83.31999999999998| 2.608000000000002| 214.5564967999999| 7.346000000000003|   1.0|[3.0,0.0,37392.0,...|\n",
            "|   19|2010-02-26|1373270.0599999998|      0.0|203819.0|30.329999999999973|2.9099999999999975|131.68599999999986| 8.350000000000012|   0.0|[19.0,0.0,203819....|\n",
            "|   21|2010-02-19| 867283.2499999998|      0.0|140167.0|             39.75|2.5140000000000016|210.94516049999987| 8.324000000000005|   1.0|[21.0,0.0,140167....|\n",
            "+-----+----------+------------------+---------+--------+------------------+------------------+------------------+------------------+------+--------------------+\n",
            "only showing top 20 rows\n",
            "\n"
          ]
        }
      ]
    },
    {
      "cell_type": "code",
      "source": [
        "#Afficher le schema de df1\n",
        "df1.printSchema()"
      ],
      "metadata": {
        "colab": {
          "base_uri": "https://localhost:8080/"
        },
        "id": "xKTd26X4rsm0",
        "outputId": "2fb6cf14-4259-4ad6-b573-4dab0ef5012f"
      },
      "execution_count": 23,
      "outputs": [
        {
          "output_type": "stream",
          "name": "stdout",
          "text": [
            "root\n",
            " |-- Store: integer (nullable = true)\n",
            " |-- Date: date (nullable = true)\n",
            " |-- Sales: double (nullable = true)\n",
            " |-- IsHoliday: double (nullable = true)\n",
            " |-- Size: double (nullable = true)\n",
            " |-- Temperature: double (nullable = true)\n",
            " |-- Fuel_Price: double (nullable = true)\n",
            " |-- CPI: double (nullable = true)\n",
            " |-- Unemployment: double (nullable = true)\n",
            " |-- Type_i: double (nullable = true)\n",
            " |-- Independent_Features: vector (nullable = true)\n",
            "\n"
          ]
        }
      ]
    },
    {
      "cell_type": "code",
      "source": [
        "#Selectionner le vecteur et la cible\n",
        "df_final = df1.select(\"Independent_Features\",\"Sales\")\n",
        "df_final.show()"
      ],
      "metadata": {
        "colab": {
          "base_uri": "https://localhost:8080/"
        },
        "id": "BlZhyLCbpYTa",
        "outputId": "f7aeda6d-6449-4193-b3cc-2b0988ac1f15"
      },
      "execution_count": 24,
      "outputs": [
        {
          "output_type": "stream",
          "name": "stdout",
          "text": [
            "+--------------------+------------------+\n",
            "|Independent_Features|             Sales|\n",
            "+--------------------+------------------+\n",
            "|[4.0,0.0,205863.0...|1846651.9499999997|\n",
            "|[16.0,0.0,57197.0...|         445393.74|\n",
            "|[25.0,0.0,128107....| 677231.6299999999|\n",
            "|[1.0,0.0,151315.0...|1548033.7799999993|\n",
            "|[2.0,0.0,202307.0...|        1876788.15|\n",
            "|[4.0,0.0,205863.0...|        2116475.38|\n",
            "|[4.0,0.0,205863.0...|        2209835.43|\n",
            "|[7.0,0.0,70713.0,...| 642748.2100000002|\n",
            "|[7.0,1.0,70713.0,...|         563460.77|\n",
            "|[8.0,0.0,155078.0...|1069061.6300000001|\n",
            "|[10.0,0.0,126512....|1704753.0199999998|\n",
            "|[13.0,0.0,219622....|2059458.2500000007|\n",
            "|[15.0,0.0,123737....|         603318.89|\n",
            "|[23.0,0.0,114533....|        1407191.96|\n",
            "|[26.0,0.0,152513....| 919503.4000000004|\n",
            "|[29.0,0.0,93638.0...| 505304.3300000001|\n",
            "|[29.0,0.0,93638.0...|         598251.57|\n",
            "|[3.0,0.0,37392.0,...|         352864.49|\n",
            "|[19.0,0.0,203819....|1373270.0599999998|\n",
            "|[21.0,0.0,140167....| 867283.2499999998|\n",
            "+--------------------+------------------+\n",
            "only showing top 20 rows\n",
            "\n"
          ]
        }
      ]
    },
    {
      "cell_type": "code",
      "source": [
        "#Importation de LinearRegression\n",
        "from pyspark.ml.regression import LinearRegression\n",
        "#Entrainement du model\n",
        "## 75% des donnees iront a train_data et 25% a test_data\n",
        "train_data,test_data = df_final.randomSplit([0.70,0.30])\n",
        "\n",
        "#Precision du vecteur 'Independent Features' et de la cible 'Sales'\n",
        "regressor=LinearRegression(featuresCol='Independent_Features', labelCol='Sales')\n",
        "\n",
        "#Application du modele a train_data\n",
        "regressor = regressor.fit(train_data)"
      ],
      "metadata": {
        "id": "72-xZHn7p8hA"
      },
      "execution_count": 26,
      "outputs": []
    },
    {
      "cell_type": "code",
      "source": [
        "#Affichage du coefficient\n",
        "regressor.coefficients"
      ],
      "metadata": {
        "colab": {
          "base_uri": "https://localhost:8080/"
        },
        "id": "GgcRIg1jq7pW",
        "outputId": "a3e6b595-0773-462b-ee67-4866bb3a3e15"
      },
      "execution_count": 27,
      "outputs": [
        {
          "output_type": "execute_result",
          "data": {
            "text/plain": [
              "DenseVector([-7538.3091, 76667.8233, 7.7615, 1328.1992, -13659.0736, -1850.2813, -17613.5228, 106361.9609])"
            ]
          },
          "metadata": {},
          "execution_count": 27
        }
      ]
    },
    {
      "cell_type": "code",
      "source": [
        "#Affichage de l'intercept\n",
        "regressor.intercept"
      ],
      "metadata": {
        "colab": {
          "base_uri": "https://localhost:8080/"
        },
        "id": "GLMYALcVrIuf",
        "outputId": "8ef2eac9-c515-46f3-ab76-17f2653b2db2"
      },
      "execution_count": 28,
      "outputs": [
        {
          "output_type": "execute_result",
          "data": {
            "text/plain": [
              "557894.5150144538"
            ]
          },
          "metadata": {},
          "execution_count": 28
        }
      ]
    },
    {
      "cell_type": "code",
      "source": [
        "#Calculer la prediction\n",
        "pred_results= regressor.evaluate(test_data)"
      ],
      "metadata": {
        "id": "Mff_ZlHorNTl"
      },
      "execution_count": 29,
      "outputs": []
    },
    {
      "cell_type": "code",
      "source": [
        "#Affichage de la prediction\n",
        "pred_results.predictions.show(100)"
      ],
      "metadata": {
        "colab": {
          "base_uri": "https://localhost:8080/"
        },
        "id": "AkIiq-3orykd",
        "outputId": "cc071ebe-6083-4352-f5cd-6b8368b919b8"
      },
      "execution_count": 35,
      "outputs": [
        {
          "output_type": "stream",
          "name": "stdout",
          "text": [
            "+--------------------+------------------+------------------+\n",
            "|Independent_Features|             Sales|        prediction|\n",
            "+--------------------+------------------+------------------+\n",
            "|[1.0,0.0,151315.0...|        1316899.31|1212901.8396926043|\n",
            "|[1.0,0.0,151315.0...|        1554806.68|1216862.5831081206|\n",
            "|[1.0,0.0,151315.0...|        2270188.99|1201560.7570831522|\n",
            "|[1.0,0.0,151315.0...|1444732.2799999996|1220729.4595800638|\n",
            "|[1.0,0.0,151315.0...| 1891034.929999999| 1222584.299349755|\n",
            "|[1.0,0.0,151315.0...|        1394393.84|1215560.2542985636|\n",
            "|[1.0,0.0,151315.0...|1472515.7899999998|1226545.6977488296|\n",
            "|[1.0,0.0,151315.0...|1636339.6500000001|1217199.6699487963|\n",
            "|[1.0,0.0,151315.0...|1551659.2799999993| 1235844.249250453|\n",
            "|[1.0,0.0,151315.0...|1494479.4899999998| 1236379.097583947|\n",
            "|[1.0,0.0,151315.0...|1539483.7000000002| 1219967.708211728|\n",
            "|[1.0,0.0,151315.0...|1594968.2799999998| 1242753.241729605|\n",
            "|[1.0,0.0,151315.0...|1456800.2799999998| 1235002.652036965|\n",
            "|[1.0,0.0,151315.0...|1502562.7800000003|1222595.8041906254|\n",
            "|[1.0,0.0,151315.0...|        1677472.78|1221045.2088677327|\n",
            "|[1.0,0.0,151315.0...|        1466058.28|1247530.6214097713|\n",
            "|[1.0,0.0,151315.0...|1670785.9699999997|1237709.8068698794|\n",
            "|[1.0,0.0,151315.0...|1453329.4999999998| 1255010.976615232|\n",
            "|[1.0,0.0,151315.0...|1603955.1200000003|1255711.7024622308|\n",
            "|[1.0,0.0,151315.0...|1494251.5000000002|1258418.7681501843|\n",
            "|[1.0,0.0,151315.0...|1437059.2600000002|1241511.0436893692|\n",
            "|[1.0,0.0,151315.0...|1399662.0700000003| 1260488.569620132|\n",
            "|[1.0,0.0,151315.0...|1494122.3800000004|1245736.1111110514|\n",
            "|[1.0,0.0,151315.0...|1624477.5800000003|1244393.4140868955|\n",
            "|[1.0,0.0,151315.0...|1432069.9500000002|1266199.0611657451|\n",
            "|[1.0,0.0,151315.0...|1546074.1799999997|1267828.5663794423|\n",
            "|[1.0,0.0,151315.0...|        1351791.03|1267780.9641829333|\n",
            "|[1.0,0.0,151315.0...|        1430378.67|1270046.9745674587|\n",
            "|[1.0,0.0,151315.0...|1588948.3199999998|1252175.6274753578|\n",
            "|[1.0,0.0,151315.0...|1448938.9200000002|1271649.2356889164|\n",
            "|[1.0,0.0,151315.0...|1396926.8200000005|1250008.5054088323|\n",
            "|[1.0,0.0,151315.0...|1532114.8599999996|1256766.4904076955|\n",
            "|[1.0,0.0,151315.0...|        1455119.97|1254838.8878118163|\n",
            "|[1.0,0.0,151315.0...|        1624383.75|1257141.2043328488|\n",
            "|[1.0,1.0,151315.0...|1649614.9300000002|1278155.3975367274|\n",
            "|[1.0,1.0,151315.0...|1641957.4399999997|1284169.6244318555|\n",
            "|[1.0,1.0,151315.0...|1367320.0099999998|1296369.2940557916|\n",
            "|[1.0,1.0,151315.0...|2033320.6600000001|1294359.2573083506|\n",
            "|[1.0,1.0,151315.0...|1540471.2400000002| 1314322.163679028|\n",
            "|[2.0,0.0,202307.0...|1744193.5799999996|1584109.0240747773|\n",
            "|[2.0,0.0,202307.0...|2124451.5400000005|1594479.8087009033|\n",
            "|[2.0,0.0,202307.0...|        2136989.46|1594707.9633057225|\n",
            "|[2.0,0.0,202307.0...|2290549.3200000003|1589812.5516580886|\n",
            "|[2.0,0.0,202307.0...|        1865097.27| 1602294.606081835|\n",
            "|[2.0,0.0,202307.0...|3224369.8000000007| 1596219.085782959|\n",
            "|[2.0,0.0,202307.0...|1991013.1300000001|1602784.6155408649|\n",
            "|[2.0,0.0,202307.0...|        2609166.75| 1602685.363723312|\n",
            "|[2.0,0.0,202307.0...|        2015781.27| 1606876.767691985|\n",
            "|[2.0,0.0,202307.0...|3436007.6799999997|1605667.1903104256|\n",
            "|[2.0,0.0,202307.0...|        1660906.14|1604320.7147397788|\n",
            "|[2.0,0.0,202307.0...|1879107.3100000003| 1598848.627454754|\n",
            "|[2.0,0.0,202307.0...|1935299.9399999997|1609448.2811095966|\n",
            "|[2.0,0.0,202307.0...|        1800171.36|1601955.5855781185|\n",
            "|[2.0,0.0,202307.0...|1990483.7799999998|1615953.9409255683|\n",
            "|[2.0,0.0,202307.0...|1981607.7800000005|1608449.5322817548|\n",
            "|[2.0,0.0,202307.0...|1939061.4100000001|1617808.7187377028|\n",
            "|[2.0,0.0,202307.0...|1920725.1499999992|1613025.7413836305|\n",
            "|[2.0,0.0,202307.0...|1833511.0799999998|1616051.1824725843|\n",
            "|[2.0,0.0,202307.0...|1902557.6600000001|1610765.3997342114|\n",
            "|[2.0,0.0,202307.0...|2066187.7199999995| 1626043.597653153|\n",
            "|[2.0,0.0,202307.0...|1790439.1600000001|1613245.3855075908|\n",
            "|[2.0,0.0,202307.0...|1834680.2500000002|1620056.5928878947|\n",
            "|[2.0,0.0,202307.0...|1794355.4899999995|1628207.5376330311|\n",
            "|[2.0,0.0,202307.0...|1802755.1099999996|1628671.2035637344|\n",
            "|[2.0,0.0,202307.0...|        1802450.29|1630932.3463959226|\n",
            "|[2.0,0.0,202307.0...|         1935869.1|1619740.1477545353|\n",
            "|[2.0,0.0,202307.0...|        1745545.28|1614892.5846628402|\n",
            "|[2.0,0.0,202307.0...|1827440.4299999995|  1634636.38476751|\n",
            "|[2.0,0.0,202307.0...|1829415.6700000006|1629454.9344646612|\n",
            "|[2.0,0.0,202307.0...|2042581.7100000002| 1635983.908412306|\n",
            "|[2.0,0.0,202307.0...|        1917520.99|1629805.7383145317|\n",
            "|[2.0,0.0,202307.0...|        1669299.78|1628040.2430251623|\n",
            "|[2.0,0.0,202307.0...|1814806.6300000001|1636240.7697315065|\n",
            "|[2.0,0.0,202307.0...|1650394.4400000002|1632352.6294436147|\n",
            "|[2.0,0.0,202307.0...|1912791.0899999999|1637242.0293499413|\n",
            "|[2.0,0.0,202307.0...|1910092.3700000003|1638309.3578919126|\n",
            "|[2.0,0.0,202307.0...|        2010216.49|1639385.8205234073|\n",
            "|[2.0,0.0,202307.0...|1691439.5200000003|1632195.1887622583|\n",
            "|[2.0,0.0,202307.0...|1746470.5600000003|1640940.8034226187|\n",
            "|[2.0,0.0,202307.0...|1957113.8899999997| 1649079.466423648|\n",
            "|[2.0,0.0,202307.0...|1904608.0899999999|1653102.0382517164|\n",
            "|[2.0,0.0,202307.0...|1793903.5999999999|1653340.8444232498|\n",
            "|[2.0,0.0,202307.0...|2003940.6400000006|1653624.5443836148|\n",
            "|[2.0,0.0,202307.0...|1929153.1600000001| 1637027.102354785|\n",
            "|[2.0,0.0,202307.0...|1928016.0100000005|1651072.6446673828|\n",
            "|[2.0,0.0,202307.0...|1939927.0899999999|1656527.2670506733|\n",
            "|[2.0,0.0,202307.0...|1881046.1200000008|1651614.2228938264|\n",
            "|[2.0,0.0,202307.0...|1781717.7100000002|1660970.7296983334|\n",
            "|[2.0,0.0,202307.0...|        1853161.99|1645993.1877022514|\n",
            "|[2.0,0.0,202307.0...|1895601.0499999996|1660923.8835729044|\n",
            "|[2.0,0.0,202307.0...|1991909.9799999995| 1662697.819082057|\n",
            "|[2.0,0.0,202307.0...|1844094.5899999994| 1647123.600051506|\n",
            "|[2.0,0.0,202307.0...|1812768.2600000005|1648378.4360753943|\n",
            "|[2.0,0.0,202307.0...|1876704.2600000005|1650201.4852583136|\n",
            "|[2.0,1.0,202307.0...|        2103322.68| 1674343.614071086|\n",
            "|[2.0,1.0,202307.0...|        2658725.29|1701045.2990221325|\n",
            "|[3.0,0.0,37392.0,...| 421642.1899999999|433155.68224108184|\n",
            "|[3.0,0.0,37392.0,...|         407204.86| 439077.0218877772|\n",
            "|[3.0,0.0,37392.0,...| 498159.3900000001|  431510.788835422|\n",
            "|[3.0,0.0,37392.0,...|         475591.08| 418838.1958081012|\n",
            "+--------------------+------------------+------------------+\n",
            "only showing top 100 rows\n",
            "\n"
          ]
        }
      ]
    },
    {
      "cell_type": "code",
      "source": [
        "#Les valeurs de performance du modele (meanAbsoluteError,meanSquaredError)\n",
        "pred_results.meanAbsoluteError,pred_results.meanSquaredError"
      ],
      "metadata": {
        "colab": {
          "base_uri": "https://localhost:8080/"
        },
        "id": "5PPkeGzJy2ND",
        "outputId": "98f77e7c-781e-4a5f-eacd-63bf7a0d3b5c"
      },
      "execution_count": 34,
      "outputs": [
        {
          "output_type": "execute_result",
          "data": {
            "text/plain": [
              "(232082.98044284168, 97887730070.41074)"
            ]
          },
          "metadata": {},
          "execution_count": 34
        }
      ]
    }
  ]
}